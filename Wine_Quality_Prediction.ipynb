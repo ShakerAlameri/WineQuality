import pandas as pd
from sklearn.model_selection import train_test_split
from sklearn.preprocessing import StandardScaler

# Load dataset (Wine Quality - UCI)
data = pd.read_csv('/content/winequality-red.csv')

# Preprocessing
X = data.drop('quality', axis=1)  # Features (acidity, pH, alcohol, etc.)
y = data['quality']               # Target (wine quality score: 3-9)

# Split data
X_train, X_test, y_train, y_test = train_test_split(X, y, test_size=0.2, random_state=42)

# Standardize features
scaler = StandardScaler()
X_train = scaler.fit_transform(X_train)
X_test = scaler.transform(X_test)

# Save processed data
pd.DataFrame(X_train).to_csv('/content/X_train.csv', index=False)
pd.DataFrame(y_train).to_csv('/content/y_train.csv', index=False)

from sklearn.ensemble import RandomForestClassifier

rf = RandomForestClassifier(n_estimators=100)
rf.fit(X_train, y_train)
predictions_RF = rf.predict(X_test)
pd.DataFrame(predictions_RF).to_csv('/content/predictions_RF.csv')

from sklearn.svm import SVC

svm = SVC(kernel='rbf')
svm.fit(X_train, y_train)
predictions_SVM = svm.predict(X_test)

from sklearn.naive_bayes import GaussianNB

nb = GaussianNB()
nb.fit(X_train, y_train)
predictions_NB = nb.predict(X_test)

from tensorflow.keras.models import Sequential
from tensorflow.keras.layers import Dense
import numpy as np

# Ensure data is numpy array and float32
X_train = np.asarray(X_train).astype('float32')
y_train = np.asarray(y_train).astype('float32')

# Adjust target for multi-class classification (quality scores 3-9 → 0-6)
y_train_adj = y_train - 3
y_test_adj = y_test - 3

# Build model
model = Sequential([
    Dense(64, activation='relu', input_shape=(X_train.shape[1],)),
    Dense(32, activation='relu'),
    Dense(7, activation='softmax')  # 7 classes (0-6 representing quality 3-9)
])

model.compile(optimizer='adam',
              loss='sparse_categorical_crossentropy',
              metrics=['accuracy'])

# Train model
history = model.fit(X_train, y_train_adj,
                    epochs=20,
                    batch_size=32,
                    validation_split=0.2)

# Predictions
predictions_ANN = model.predict(X_test).argmax(axis=1) + 3  # Convert back to original scale

from sklearn.linear_model import LinearRegression
from sklearn.metrics import mean_squared_error

lr = LinearRegression()
lr.fit(X_train, y_train)
predictions_LR = lr.predict(X_test).round().astype(int)  # Round to nearest quality score

from sklearn.metrics import classification_report, accuracy_score

models = {
    "Random Forest": predictions_RF,
    "SVM": predictions_SVM,
    "Naive Bayes": predictions_NB,
    "ANN": predictions_ANN,
    "Linear Regression": predictions_LR
}

for name, pred in models.items():
    print(f"----- {name} -----")
    print(classification_report(y_test, pred))
    print(f"Accuracy: {accuracy_score(y_test, pred):.2f}\n")
