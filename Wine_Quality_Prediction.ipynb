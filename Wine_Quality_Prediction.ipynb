{
  "nbformat": 4,
  "nbformat_minor": 0,
  "metadata": {
    "colab": {
      "provenance": []
    },
    "kernelspec": {
      "name": "python3",
      "display_name": "Python 3"
    },
    "language_info": {
      "name": "python"
    }
  },
  "cells": [
    {
      "cell_type": "code",
      "execution_count": 22,
      "metadata": {
        "id": "FRTYDhlPzebu"
      },
      "outputs": [],
      "source": [
        "import pandas as pd\n",
        "from sklearn.model_selection import train_test_split\n",
        "from sklearn.preprocessing import StandardScaler\n",
        "\n",
        "# Load dataset (Wine Quality - UCI)\n",
        "data = pd.read_csv('/content/winequality-red.csv')\n",
        "\n",
        "# Preprocessing\n",
        "X = data.drop('quality', axis=1)  # Features (acidity, pH, alcohol, etc.)\n",
        "y = data['quality']               # Target (wine quality score: 3-9)\n",
        "\n",
        "# Split data\n",
        "X_train, X_test, y_train, y_test = train_test_split(X, y, test_size=0.2, random_state=42)\n",
        "\n",
        "# Standardize features\n",
        "scaler = StandardScaler()\n",
        "X_train = scaler.fit_transform(X_train)\n",
        "X_test = scaler.transform(X_test)\n",
        "\n",
        "# Save processed data\n",
        "pd.DataFrame(X_train).to_csv('/content/X_train.csv', index=False)\n",
        "pd.DataFrame(y_train).to_csv('/content/y_train.csv', index=False)\n",
        "pd.DataFrame(X_test).to_csv('/content/X_test.csv', index=False)\n",
        "pd.DataFrame(y_test).to_csv('/content/y_test.csv', index=False)"
      ]
    },
    {
      "cell_type": "code",
      "source": [
        "from sklearn.ensemble import RandomForestClassifier\n",
        "\n",
        "rf = RandomForestClassifier(n_estimators=100)\n",
        "rf.fit(X_train, y_train)\n",
        "predictions_RF = rf.predict(X_test)\n",
        "pd.DataFrame(predictions_RF).to_csv('/content/predictions_RF.csv')"
      ],
      "metadata": {
        "id": "nY3p_AJF0akj"
      },
      "execution_count": null,
      "outputs": []
    },
    {
      "cell_type": "code",
      "source": [
        "from sklearn.svm import SVC\n",
        "\n",
        "svm = SVC(kernel='rbf')\n",
        "svm.fit(X_train, y_train)\n",
        "predictions_SVM = svm.predict(X_test)\n",
        "pd.DataFrame(predictions_SVM).to_csv('/content/predictions_SVM.csv')"
      ],
      "metadata": {
        "id": "RmuySQog0nOW"
      },
      "execution_count": 17,
      "outputs": []
    },
    {
      "cell_type": "code",
      "source": [
        "from sklearn.naive_bayes import GaussianNB\n",
        "\n",
        "nb = GaussianNB()\n",
        "nb.fit(X_train, y_train)\n",
        "predictions_NB = nb.predict(X_test)\n",
        "pd.DataFrame(predictions_NB).to_csv('/content/predictions_NB.csv')"
      ],
      "metadata": {
        "id": "mFGSEd4T0tYn"
      },
      "execution_count": 18,
      "outputs": []
    },
    {
      "cell_type": "code",
      "source": [
        "from tensorflow.keras.models import Sequential\n",
        "from tensorflow.keras.layers import Dense\n",
        "import numpy as np\n",
        "\n",
        "# Ensure data is numpy array and float32\n",
        "X_train = np.asarray(X_train).astype('float32')\n",
        "y_train = np.asarray(y_train).astype('float32')\n",
        "\n",
        "# Adjust target for multi-class classification (quality scores 3-9 → 0-6)\n",
        "y_train_adj = y_train - 3\n",
        "y_test_adj = y_test - 3\n",
        "\n",
        "# Build model\n",
        "model = Sequential([\n",
        "    Dense(64, activation='relu', input_shape=(X_train.shape[1],)),\n",
        "    Dense(32, activation='relu'),\n",
        "    Dense(7, activation='softmax')  # 7 classes (0-6 representing quality 3-9)\n",
        "])\n",
        "\n",
        "model.compile(optimizer='adam',\n",
        "              loss='sparse_categorical_crossentropy',\n",
        "              metrics=['accuracy'])\n",
        "\n",
        "# Train model\n",
        "history = model.fit(X_train, y_train_adj,\n",
        "                    epochs=20,\n",
        "                    batch_size=32,\n",
        "                    validation_split=0.2)\n",
        "\n",
        "# Predictions\n",
        "predictions_ANN = model.predict(X_test).argmax(axis=1) + 3  # Convert back to original scale\n",
        "pd.DataFrame(predictions_ANN).to_csv('/content/predictions_ANN.csv')"
      ],
      "metadata": {
        "id": "Pvha82TE0zZq"
      },
      "execution_count": null,
      "outputs": []
    },
    {
      "cell_type": "code",
      "source": [
        "from sklearn.linear_model import LinearRegression\n",
        "from sklearn.metrics import mean_squared_error\n",
        "\n",
        "lr = LinearRegression()\n",
        "lr.fit(X_train, y_train)\n",
        "predictions_LR = lr.predict(X_test).round().astype(int)  # Round to nearest quality score\n",
        "pd.DataFrame(predictions_LR).to_csv('/content/predictions_LR.csv')"
      ],
      "metadata": {
        "id": "2xpP9wf61bUN"
      },
      "execution_count": 20,
      "outputs": []
    },
    {
      "cell_type": "code",
      "source": [
        "from sklearn.metrics import classification_report, accuracy_score\n",
        "\n",
        "models = {\n",
        "    \"Random Forest\": predictions_RF,\n",
        "    \"SVM\": predictions_SVM,\n",
        "    \"Naive Bayes\": predictions_NB,\n",
        "    \"ANN\": predictions_ANN,\n",
        "    \"Linear Regression\": predictions_LR\n",
        "}\n",
        "\n",
        "for name, pred in models.items():\n",
        "    print(f\"----- {name} -----\")\n",
        "    print(classification_report(y_test, pred))\n",
        "    print(f\"Accuracy: {accuracy_score(y_test, pred):.2f}\\n\")"
      ],
      "metadata": {
        "colab": {
          "base_uri": "https://localhost:8080/"
        },
        "id": "XrWpGxZA1hIM",
        "outputId": "0d139f61-cc91-46d5-f30f-e7283d4e3cec"
      },
      "execution_count": 21,
      "outputs": [
        {
          "output_type": "stream",
          "name": "stdout",
          "text": [
            "----- Random Forest -----\n",
            "              precision    recall  f1-score   support\n",
            "\n",
            "           3       0.00      0.00      0.00         1\n",
            "           4       0.00      0.00      0.00        10\n",
            "           5       0.71      0.75      0.73       130\n",
            "           6       0.63      0.71      0.67       132\n",
            "           7       0.62      0.48      0.54        42\n",
            "           8       0.00      0.00      0.00         5\n",
            "\n",
            "    accuracy                           0.66       320\n",
            "   macro avg       0.33      0.32      0.32       320\n",
            "weighted avg       0.63      0.66      0.64       320\n",
            "\n",
            "Accuracy: 0.66\n",
            "\n",
            "----- SVM -----\n",
            "              precision    recall  f1-score   support\n",
            "\n",
            "           3       0.00      0.00      0.00         1\n",
            "           4       0.00      0.00      0.00        10\n",
            "           5       0.65      0.76      0.70       130\n",
            "           6       0.56      0.64      0.60       132\n",
            "           7       0.56      0.21      0.31        42\n",
            "           8       0.00      0.00      0.00         5\n",
            "\n",
            "    accuracy                           0.60       320\n",
            "   macro avg       0.30      0.27      0.27       320\n",
            "weighted avg       0.57      0.60      0.57       320\n",
            "\n",
            "Accuracy: 0.60\n",
            "\n",
            "----- Naive Bayes -----\n",
            "              precision    recall  f1-score   support\n",
            "\n",
            "           3       0.00      0.00      0.00         1\n",
            "           4       0.29      0.20      0.24        10\n",
            "           5       0.65      0.66      0.66       130\n",
            "           6       0.52      0.49      0.51       132\n",
            "           7       0.42      0.52      0.46        42\n",
            "           8       0.00      0.00      0.00         5\n",
            "\n",
            "    accuracy                           0.55       320\n",
            "   macro avg       0.31      0.31      0.31       320\n",
            "weighted avg       0.54      0.55      0.54       320\n",
            "\n",
            "Accuracy: 0.55\n",
            "\n",
            "----- ANN -----\n",
            "              precision    recall  f1-score   support\n",
            "\n",
            "           3       0.00      0.00      0.00         1\n",
            "           4       0.00      0.00      0.00        10\n",
            "           5       0.61      0.77      0.68       130\n",
            "           6       0.55      0.49      0.52       132\n",
            "           7       0.44      0.38      0.41        42\n",
            "           8       0.00      0.00      0.00         5\n",
            "\n",
            "    accuracy                           0.57       320\n",
            "   macro avg       0.27      0.27      0.27       320\n",
            "weighted avg       0.53      0.57      0.54       320\n",
            "\n",
            "Accuracy: 0.57\n",
            "\n",
            "----- Linear Regression -----\n",
            "              precision    recall  f1-score   support\n",
            "\n",
            "           3       0.00      0.00      0.00         1\n",
            "           4       0.00      0.00      0.00        10\n",
            "           5       0.65      0.70      0.67       130\n",
            "           6       0.53      0.66      0.59       132\n",
            "           7       0.36      0.12      0.18        42\n",
            "           8       0.00      0.00      0.00         5\n",
            "\n",
            "    accuracy                           0.57       320\n",
            "   macro avg       0.25      0.25      0.24       320\n",
            "weighted avg       0.53      0.57      0.54       320\n",
            "\n",
            "Accuracy: 0.57\n",
            "\n"
          ]
        },
        {
          "output_type": "stream",
          "name": "stderr",
          "text": [
            "/usr/local/lib/python3.11/dist-packages/sklearn/metrics/_classification.py:1565: UndefinedMetricWarning: Precision is ill-defined and being set to 0.0 in labels with no predicted samples. Use `zero_division` parameter to control this behavior.\n",
            "  _warn_prf(average, modifier, f\"{metric.capitalize()} is\", len(result))\n",
            "/usr/local/lib/python3.11/dist-packages/sklearn/metrics/_classification.py:1565: UndefinedMetricWarning: Precision is ill-defined and being set to 0.0 in labels with no predicted samples. Use `zero_division` parameter to control this behavior.\n",
            "  _warn_prf(average, modifier, f\"{metric.capitalize()} is\", len(result))\n",
            "/usr/local/lib/python3.11/dist-packages/sklearn/metrics/_classification.py:1565: UndefinedMetricWarning: Precision is ill-defined and being set to 0.0 in labels with no predicted samples. Use `zero_division` parameter to control this behavior.\n",
            "  _warn_prf(average, modifier, f\"{metric.capitalize()} is\", len(result))\n",
            "/usr/local/lib/python3.11/dist-packages/sklearn/metrics/_classification.py:1565: UndefinedMetricWarning: Precision is ill-defined and being set to 0.0 in labels with no predicted samples. Use `zero_division` parameter to control this behavior.\n",
            "  _warn_prf(average, modifier, f\"{metric.capitalize()} is\", len(result))\n",
            "/usr/local/lib/python3.11/dist-packages/sklearn/metrics/_classification.py:1565: UndefinedMetricWarning: Precision is ill-defined and being set to 0.0 in labels with no predicted samples. Use `zero_division` parameter to control this behavior.\n",
            "  _warn_prf(average, modifier, f\"{metric.capitalize()} is\", len(result))\n",
            "/usr/local/lib/python3.11/dist-packages/sklearn/metrics/_classification.py:1565: UndefinedMetricWarning: Precision is ill-defined and being set to 0.0 in labels with no predicted samples. Use `zero_division` parameter to control this behavior.\n",
            "  _warn_prf(average, modifier, f\"{metric.capitalize()} is\", len(result))\n",
            "/usr/local/lib/python3.11/dist-packages/sklearn/metrics/_classification.py:1565: UndefinedMetricWarning: Precision is ill-defined and being set to 0.0 in labels with no predicted samples. Use `zero_division` parameter to control this behavior.\n",
            "  _warn_prf(average, modifier, f\"{metric.capitalize()} is\", len(result))\n",
            "/usr/local/lib/python3.11/dist-packages/sklearn/metrics/_classification.py:1565: UndefinedMetricWarning: Precision is ill-defined and being set to 0.0 in labels with no predicted samples. Use `zero_division` parameter to control this behavior.\n",
            "  _warn_prf(average, modifier, f\"{metric.capitalize()} is\", len(result))\n",
            "/usr/local/lib/python3.11/dist-packages/sklearn/metrics/_classification.py:1565: UndefinedMetricWarning: Precision is ill-defined and being set to 0.0 in labels with no predicted samples. Use `zero_division` parameter to control this behavior.\n",
            "  _warn_prf(average, modifier, f\"{metric.capitalize()} is\", len(result))\n",
            "/usr/local/lib/python3.11/dist-packages/sklearn/metrics/_classification.py:1565: UndefinedMetricWarning: Precision is ill-defined and being set to 0.0 in labels with no predicted samples. Use `zero_division` parameter to control this behavior.\n",
            "  _warn_prf(average, modifier, f\"{metric.capitalize()} is\", len(result))\n",
            "/usr/local/lib/python3.11/dist-packages/sklearn/metrics/_classification.py:1565: UndefinedMetricWarning: Precision is ill-defined and being set to 0.0 in labels with no predicted samples. Use `zero_division` parameter to control this behavior.\n",
            "  _warn_prf(average, modifier, f\"{metric.capitalize()} is\", len(result))\n",
            "/usr/local/lib/python3.11/dist-packages/sklearn/metrics/_classification.py:1565: UndefinedMetricWarning: Precision is ill-defined and being set to 0.0 in labels with no predicted samples. Use `zero_division` parameter to control this behavior.\n",
            "  _warn_prf(average, modifier, f\"{metric.capitalize()} is\", len(result))\n"
          ]
        }
      ]
    }
  ]
}